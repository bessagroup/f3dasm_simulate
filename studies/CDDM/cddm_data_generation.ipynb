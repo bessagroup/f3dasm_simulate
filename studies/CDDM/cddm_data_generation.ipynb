{
 "cells": [
  {
   "attachments": {},
   "cell_type": "markdown",
   "metadata": {},
   "source": [
    "# Data generation of Path Dependent Representative Volume Elements(RVEs)"
   ]
  },
  {
   "attachments": {},
   "cell_type": "markdown",
   "metadata": {},
   "source": [
    "## 1. Illustration of RVE \n",
    "RVE simulation is an effective approach to explore constitutive laws of composites. Generally, An RVE has two material Phases which are matrix phase and fiber phase.  Figure 1 gives an illustration of micro-structure of a 2D RVE. \n",
    "\n",
    "\n",
    "<center><img src=\"figures/tasks_rve.svg\" width=\"=80%\"> </center>\n",
    "<center> Figure 1: Illustration of RVEs, and list of commonalities and discrepancies on setting up tasks </center>\n",
    "<br>\n",
    "\n",
    "---\n",
    "According to [Bessa et al.](https://www.sciencedirect.com/science/article/pii/S0045782516314803), **microstructures**, **material properties**, and **loading conditions** are three major variables which will influence the RVE properties. In order to exploit the advantages and limits of CDDM, several RVEs with similarities and differences are set up as different tasks. In detail, different tasks have different microstructures and material properties and apply the same dependent paths to generate the learning dataset"
   ]
  },
  {
   "attachments": {},
   "cell_type": "markdown",
   "metadata": {},
   "source": [
    "## 2. Tasks set up\n",
    "From Figure 1, it can be seen that the microstructure of an RVE is controlled by four factors which are size of the square, volume fraction of fiber phase, and distribution parameters for generating fibers. Meanwhile, the material properties of fiber and matrix phases also influence the performance of RVEs significantly. \n",
    "<br>\n",
    "Therefore, several designated microstructures and material properties are given as the design variables for generating different tasks. \n",
    "\n",
    "### 2.1 Design variables\n",
    "\n"
   ]
  },
  {
   "attachments": {},
   "cell_type": "markdown",
   "metadata": {},
   "source": [
    "#### 2.1.1. microstructure configurations:\n",
    ">Configuration (a):  \n",
    "$$v_{frac} = 0.45 , L=0.048 , R_{mu}=0.01, R_{std}=0.003$$  \n",
    "\n",
    ">Configuration (b): \n",
    "$$v_{frac} = 0.30,  L=0.048 , R_{mu}=0.003, R_{std}=0.0$$ \n",
    "\n",
    ">Configuration (c): \n",
    "$$v_{frac} = 0.15,  L=0.048 , R_{mu}=0.0015, R_{std}=0.00005$$ \n",
    "\n",
    "Figure 2 plots different configurations of microstructure: \n",
    "\n",
    "<center><img src=\"figures/tasks_microstructures.svg\" width=\"=80%\"> </center>\n",
    "<center> Figure 2: Schematics of different microstructure configurations </center>\n",
    "<br>\n",
    "\n",
    "#### 2.2.1  material properties for matrix and fiber phases \n",
    "1. matrix material property configurations\n",
    "The von-Mises plasticity model is selected for matrix material. Meanwhile,  the young' modulus ($E_{matrix} =100 MPa $) and poisson ratio ($\\nu = 0.3$) are fixed for all tasks, different hardening laws are designated. \n",
    "\n",
    ">linear:  (1) $$\\sigma_{y} = 0.5+0.5\\bar\\epsilon$$ \n",
    ">swift:(2) $$\\sigma_{y} = 0.5+0.5(\\bar\\epsilon)^{0.4}$$   \n",
    ">ramberg: (3) $$\\sigma_{y} = 0.5(1+ \\bar\\epsilon)^{1/0.4}$$\n",
    "> swift: (4) $$\\sigma_{y} = 3+0.5(\\bar\\epsilon)^{0.4}$$   \n",
    "\n",
    "2. fiber material property configurations \n",
    "The fiber material is set to be elastic, and poisson ratio are fixed to be $\\nu=0.19$. Whereas, different youngs modulus are chosen.\n",
    ">(I) $E_{fiber}=1$ MPa \\\n",
    ">(II) $E_{fiber} =10$ MPa\\\n",
    ">(III) $E_{fiber} =1000$ MPa\n",
    "\n",
    "### 2.3 Design of experiments of tasks \n",
    " In order to set up the tasks properly, meaning different tasks have similarities and dissimilarities, 4 tasks are listed in Table 1. \n",
    "<center><img src=\"figures/tasks_details.png\" width=\"=100%\"> </center>\n",
    "<center> Table 1: Parameters configurations of different tasks  </center>\n",
    "<br>\n",
    "\n",
    "## 3. Implementation of generating simulation data of all tasks "
   ]
  },
  {
   "cell_type": "code",
   "execution_count": 1,
   "metadata": {},
   "outputs": [
    {
     "name": "stderr",
     "output_type": "stream",
     "text": [
      "2023-06-22 15:41:51,097 - Imported f3dasm (version: 1.1.0)\n",
      "2023-06-22 15:41:51.320957: I tensorflow/core/util/port.cc:110] oneDNN custom operations are on. You may see slightly different numerical results due to floating-point round-off errors from different computation orders. To turn them off, set the environment variable `TF_ENABLE_ONEDNN_OPTS=0`.\n",
      "2023-06-22 15:41:51.367532: I tensorflow/core/platform/cpu_feature_guard.cc:182] This TensorFlow binary is optimized to use available CPU instructions in performance-critical operations.\n",
      "To enable the following instructions: AVX2 AVX512F AVX512_VNNI FMA, in other operations, rebuild TensorFlow with the appropriate compiler flags.\n",
      "2023-06-22 15:41:52.243492: W tensorflow/compiler/tf2tensorrt/utils/py_utils.cc:38] TF-TRT Warning: Could not find TensorRT\n"
     ]
    }
   ],
   "source": [
    "import os\n",
    "import f3dasm_simulate\n",
    "from pathlib import Path\n",
    "from matplotlib import pyplot as plt"
   ]
  },
  {
   "attachments": {},
   "cell_type": "markdown",
   "metadata": {},
   "source": [
    "#### 3.1 Task 1"
   ]
  },
  {
   "cell_type": "code",
   "execution_count": 2,
   "metadata": {},
   "outputs": [
    {
     "name": "stdout",
     "output_type": "stream",
     "text": [
      "/home/jiaxiangyi/Documents/f3dasm_simulate/studies/CDDM/Data/case_0\n",
      "##################################################\n",
      "############ start abaqus simulation ############\n",
      "##################################################\n"
     ]
    },
    {
     "name": "stderr",
     "output_type": "stream",
     "text": [
      "Abaqus License Manager checked out the following license:\n",
      "\"cae\" from Flexnet server flexserv1.tudelft.nl\n",
      "<10 out of 30 licenses remain available>.\n"
     ]
    },
    {
     "name": "stdout",
     "output_type": "stream",
     "text": [
      "\n",
      "*** ABAQUS/ABQcaeK rank 0 terminated by signal 15 (Terminated)\n",
      "\n",
      "simulation time :105.004355 s\n",
      "##################################################\n",
      "############## abaqus post analysis ##############\n",
      "##################################################\n",
      "Abaqus Error: cae exited with an error.\n"
     ]
    },
    {
     "name": "stderr",
     "output_type": "stream",
     "text": [
      "Abaqus License Manager checked out the following license:\n",
      "\"cae\" from Flexnet server flexserv1.tudelft.nl\n",
      "<10 out of 30 licenses remain available>.\n"
     ]
    }
   ],
   "source": [
    "# define microstucture\n",
    "microstructure = f3dasm_simulate.abaqus.microstructure.CircleMicrostructure(\n",
    "    size=0.048, radius_mu=0.01, radius_std=0.003, vol_req=0.45)\n",
    "\n",
    "# materials parameters\n",
    "# fiber material\n",
    "fiber_material = f3dasm_simulate.abaqus.material.ElasticMaterial(youngs_modulus=10.0, poisson_ratio=0.19)\n",
    "# matrix material\n",
    "hardening_law = f3dasm_simulate.abaqus.material.LinearHardeningLaw(a=0.5, b=0.5, yield_stress=0.5)\n",
    "matrix_material = f3dasm_simulate.abaqus.material.PlasticMaterial(\n",
    "    youngs_modulus=100.0, poisson_ratio=0.30, hardening_law=hardening_law)\n",
    "material = f3dasm_simulate.abaqus.material.CompositeMaterial(\n",
    "    matrix_material=matrix_material, fiber_material=fiber_material)\n",
    "# loading\n",
    "amplitude = f3dasm_simulate.abaqus.loading.AmplitudeGenerator(num_amplitude=1, num_control=8, num_steps=100, seed=1)\n",
    "loading = f3dasm_simulate.abaqus.loading.PathLoading(strain=[0.02, 0.02, 0.02], amplitude_generator=amplitude)\n",
    "\n",
    "# put all information together\n",
    "simulation_info = f3dasm_simulate.abaqus.VonMisesPlasticElasticPathLoads(\n",
    "    material=material, microstructure=microstructure, loading=loading)\n",
    "folder_info = f3dasm_simulate.abaqus.simulator_info.FolderInfo()\n",
    "abaqus_info = f3dasm_simulate.abaqus.simulator_info.AbaqusInfo()\n",
    "# initialize the simulator\n",
    "simulator = f3dasm_simulate.abaqus.simulator.AbaqusSimulator(\n",
    "    simulation_info=simulation_info, folder_info=folder_info, abaqus_info=abaqus_info)\n",
    "results_task_A = simulator.run(main_folder=str(Path()))\n"
   ]
  },
  {
   "attachments": {},
   "cell_type": "markdown",
   "metadata": {},
   "source": [
    "#### 3.2 Task B"
   ]
  },
  {
   "cell_type": "code",
   "execution_count": 3,
   "metadata": {},
   "outputs": [
    {
     "name": "stdout",
     "output_type": "stream",
     "text": [
      "/home/jiaxiangyi/Documents/f3dasm_simulate/studies/CDDM/Data/case_0\n",
      "##################################################\n",
      "############ start abaqus simulation ############\n",
      "##################################################\n"
     ]
    },
    {
     "name": "stderr",
     "output_type": "stream",
     "text": [
      "Abaqus License Manager checked out the following license:\n",
      "\"cae\" from Flexnet server flexserv1.tudelft.nl\n",
      "<10 out of 30 licenses remain available>.\n"
     ]
    }
   ],
   "source": [
    "# define microstucture\n",
    "microstructure = f3dasm_simulate.abaqus.microstructure.CircleMicrostructure(\n",
    "    size=0.048, radius_mu=0.003, radius_std=0.0, vol_req=0.3)\n",
    "\n",
    "# materials parameters\n",
    "# fiber material\n",
    "fiber_material = f3dasm_simulate.abaqus.material.ElasticMaterial(youngs_modulus=1.0, poisson_ratio=0.19)\n",
    "# matrix material (swift law)\n",
    "hardening_law = f3dasm_simulate.abaqus.material.SwiftHardeningLaw(a=0.5, b=0.4, yield_stress=0.5)\n",
    "matrix_material = f3dasm_simulate.abaqus.material.PlasticMaterial(\n",
    "    youngs_modulus=100.0, poisson_ratio=0.30, hardening_law=hardening_law)\n",
    "material = f3dasm_simulate.abaqus.material.CompositeMaterial(\n",
    "    matrix_material=matrix_material, fiber_material=fiber_material)\n",
    "# loading\n",
    "amplitude = f3dasm_simulate.abaqus.loading.AmplitudeGenerator(num_amplitude=1, num_control=8, num_steps=100, seed=1)\n",
    "loading = f3dasm_simulate.abaqus.loading.PathLoading(strain=[0.02, 0.02, 0.02], amplitude_generator=amplitude)\n",
    "\n",
    "# put all information together\n",
    "simulation_info = f3dasm_simulate.abaqus.VonMisesPlasticElasticPathLoads(\n",
    "    material=material, microstructure=microstructure, loading=loading)\n",
    "folder_info = f3dasm_simulate.abaqus.simulator_info.FolderInfo()\n",
    "abaqus_info = f3dasm_simulate.abaqus.simulator_info.AbaqusInfo()\n",
    "# initialize the simulator\n",
    "simulator = f3dasm_simulate.abaqus.simulator.AbaqusSimulator(\n",
    "    simulation_info=simulation_info, folder_info=folder_info, abaqus_info=abaqus_info)\n",
    "results_task_B = simulator.run(main_folder=str(Path()))"
   ]
  },
  {
   "attachments": {},
   "cell_type": "markdown",
   "metadata": {},
   "source": [
    "### 3.3 Task C"
   ]
  },
  {
   "cell_type": "code",
   "execution_count": null,
   "metadata": {},
   "outputs": [],
   "source": [
    "# define microstucture\n",
    "microstructure = f3dasm_simulate.abaqus.microstructure.CircleMicrostructure(\n",
    "    size=0.048, radius_mu=0.0015, radius_std=0.0003, vol_req=0.15)\n",
    "\n",
    "# materials parameters\n",
    "# fiber material\n",
    "fiber_material = f3dasm_simulate.abaqus.material.ElasticMaterial(youngs_modulus=1000.0, poisson_ratio=0.19)\n",
    "# matrix material\n",
    "hardening_law = f3dasm_simulate.abaqus.material.RambergHardeningLaw(a=0.5, b=0.4, yield_stress=0.5)\n",
    "matrix_material = f3dasm_simulate.abaqus.material.PlasticMaterial(\n",
    "    youngs_modulus=100.0, poisson_ratio=0.30, hardening_law=hardening_law)\n",
    "material = f3dasm_simulate.abaqus.material.CompositeMaterial(\n",
    "    matrix_material=matrix_material, fiber_material=fiber_material)\n",
    "# loading\n",
    "amplitude = f3dasm_simulate.abaqus.loading.AmplitudeGenerator(num_amplitude=1, num_control=8, num_steps=100, seed=1)\n",
    "loading = f3dasm_simulate.abaqus.loading.PathLoading(strain=[0.02, 0.02, 0.02], amplitude_generator=amplitude)\n",
    "\n",
    "# put all information together\n",
    "simulation_info = f3dasm_simulate.abaqus.VonMisesPlasticElasticPathLoads(\n",
    "    material=material, microstructure=microstructure, loading=loading)\n",
    "folder_info = f3dasm_simulate.abaqus.simulator_info.FolderInfo()\n",
    "abaqus_info = f3dasm_simulate.abaqus.simulator_info.AbaqusInfo()\n",
    "# initialize the simulator\n",
    "simulator = f3dasm_simulate.abaqus.simulator.AbaqusSimulator(\n",
    "    simulation_info=simulation_info, folder_info=folder_info, abaqus_info=abaqus_info)\n",
    "results_task_C = simulator.run(main_folder=str(Path()))"
   ]
  },
  {
   "attachments": {},
   "cell_type": "markdown",
   "metadata": {},
   "source": [
    "### 3.4 taks D"
   ]
  },
  {
   "cell_type": "code",
   "execution_count": null,
   "metadata": {},
   "outputs": [],
   "source": [
    "# define microstucture\n",
    "microstructure = f3dasm_simulate.abaqus.microstructure.CircleMicrostructure(\n",
    "    size=0.048, radius_mu=0.003, radius_std=0.0, vol_req=0.3)\n",
    "\n",
    "# materials parameters\n",
    "# fiber material\n",
    "fiber_material = f3dasm_simulate.abaqus.material.ElasticMaterial(youngs_modulus=1.0, poisson_ratio=0.19)\n",
    "# matrix material\n",
    "hardening_law = f3dasm_simulate.abaqus.material.SwiftHardeningLaw(a=0.5, b=0.4, yield_stress=3.0)\n",
    "matrix_material = f3dasm_simulate.abaqus.material.PlasticMaterial(\n",
    "    youngs_modulus=100.0, poisson_ratio=0.30, hardening_law=hardening_law)\n",
    "material = f3dasm_simulate.abaqus.material.CompositeMaterial(\n",
    "    matrix_material=matrix_material, fiber_material=fiber_material)\n",
    "# loading\n",
    "amplitude = f3dasm_simulate.abaqus.loading.AmplitudeGenerator(num_amplitude=1, num_control=8, num_steps=100, seed=1)\n",
    "loading = f3dasm_simulate.abaqus.loading.PathLoading(strain=[0.02, 0.02, 0.02], amplitude_generator=amplitude)\n",
    "\n",
    "# put all information together\n",
    "simulation_info = f3dasm_simulate.abaqus.VonMisesPlasticElasticPathLoads(\n",
    "    material=material, microstructure=microstructure, loading=loading)\n",
    "folder_info = f3dasm_simulate.abaqus.simulator_info.FolderInfo()\n",
    "abaqus_info = f3dasm_simulate.abaqus.simulator_info.AbaqusInfo()\n",
    "# initialize the simulator\n",
    "simulator = f3dasm_simulate.abaqus.simulator.AbaqusSimulator(\n",
    "    simulation_info=simulation_info, folder_info=folder_info, abaqus_info=abaqus_info)\n",
    "results_task_D = simulator.run(main_folder=str(Path()))\n"
   ]
  },
  {
   "cell_type": "code",
   "execution_count": null,
   "metadata": {},
   "outputs": [],
   "source": [
    "# function for visualize the data\n",
    "def plot_path_dependent(task1_results, task2_results, task3_results, task4_results):\n",
    "    fig, ax = plt.subplots(2, 3, figsize=(16, 6))\n",
    "    pparam = dict(xlabel=\"time step\", ylabel=r\"$\\varepsilon_{xx}$ (MPa)\")\n",
    "    ax[0, 0].plot(\n",
    "        task1_results[\"strain\"][:, 0, 0], label=\"task 1\"\n",
    "    )\n",
    "    ax[0, 0].plot(\n",
    "        task2_results[\"strain\"][:, 0, 0], label=\"task 2\"\n",
    "    )\n",
    "    ax[0, 0].plot(\n",
    "        task3_results[\"strain\"][:, 0, 0], label=\"task 3\"\n",
    "    )\n",
    "    ax[0, 0].plot(\n",
    "        task4_results[\"strain\"][:, 0, 0], label=\"task 4\"\n",
    "    )\n",
    "\n",
    "    ax[0, 0].set(**pparam)\n",
    "    ax[0, 0].legend()\n",
    "    pparam = dict(xlabel=\"time step\", ylabel=r\"$\\varepsilon_{xy}$ (MPa)\")\n",
    "    ax[0, 1].plot(\n",
    "        task1_results[\"strain\"][:, 0, 1], label=\"task 1\"\n",
    "    )\n",
    "    ax[0, 1].plot(\n",
    "        task2_results[\"strain\"][:, 0, 1], label=\"task 2\"\n",
    "    )\n",
    "    ax[0, 1].plot(\n",
    "        task3_results[\"strain\"][:, 0, 1], label=\"task 3\"\n",
    "    )\n",
    "    ax[0, 1].plot(\n",
    "        task4_results[\"strain\"][:, 0, 1], label=\"task 4\"\n",
    "    )\n",
    "    ax[0, 1].set(**pparam)\n",
    "    ax[0, 1].legend()\n",
    "    pparam = dict(xlabel=\"time step\", ylabel=r\"$\\varepsilon_{yy}$ (MPa)\")\n",
    "    ax[0, 2].plot(\n",
    "        task1_results[\"strain\"][:, 1, 1], label=\"task 1\"\n",
    "    )\n",
    "    ax[0, 2].plot(\n",
    "        task2_results[\"strain\"][:, 1, 1], label=\"task 2\"\n",
    "    )\n",
    "    ax[0, 2].plot(\n",
    "        task3_results[\"strain\"][:, 1, 1], label=\"task 3\"\n",
    "    )\n",
    "    ax[0, 2].plot(\n",
    "        task4_results[\"strain\"][:, 1, 1], label=\"task 4\"\n",
    "    )\n",
    "    ax[0, 2].set(**pparam)\n",
    "    ax[0, 2].legend()\n",
    "    pparam = dict(xlabel=\"time step\", ylabel=r\"$\\sigma_{xx}$ (MPa)\")\n",
    "    ax[1, 0].plot(\n",
    "        task1_results[\"stress\"][:, 0, 0], label=\"task 1\"\n",
    "    )\n",
    "    ax[1, 0].plot(\n",
    "        task2_results[\"stress\"][:, 0, 0], label=\"task 2\"\n",
    "    )\n",
    "    ax[1, 0].plot(\n",
    "        task3_results[\"stress\"][:, 0, 0], label=\"task 3\"\n",
    "    )\n",
    "    ax[1, 0].plot(\n",
    "        task4_results[\"stress\"][:, 0, 0], label=\"task 4\"\n",
    "    )\n",
    "    ax[1, 0].set(**pparam)\n",
    "    ax[1, 0].legend()\n",
    "    pparam = dict(xlabel=\"time step\", ylabel=r\"$\\sigma_{xy}$ (MPa)\")\n",
    "    ax[1, 1].plot(\n",
    "        task1_results[\"stress\"][:, 0, 1], label=\"task 1\"\n",
    "    )\n",
    "    ax[1, 1].plot(\n",
    "        task2_results[\"stress\"][:, 0, 1], label=\"task 2\"\n",
    "    )\n",
    "    ax[1, 1].plot(\n",
    "        task3_results[\"stress\"][:, 0, 1], label=\"task 3\"\n",
    "    )\n",
    "    ax[1, 1].plot(\n",
    "        task4_results[\"stress\"][:, 0, 1], label=\"task 4\"\n",
    "    )\n",
    "    ax[1, 1].set(**pparam)\n",
    "    ax[1, 1].legend()\n",
    "    pparam = dict(xlabel=\"time step\", ylabel=r\"$\\sigma_{yy}$ (MPa)\")\n",
    "    ax[1, 2].plot(\n",
    "        task1_results[\"stress\"][:, 1, 1], label=\"task 1\"\n",
    "    )\n",
    "    ax[1, 2].plot(\n",
    "        task2_results[\"stress\"][:, 1, 1], label=\"task 2\"\n",
    "    )\n",
    "    ax[1, 2].plot(\n",
    "        task3_results[\"stress\"][:, 1, 1], label=\"task 3\"\n",
    "    )\n",
    "    ax[1, 2].plot(\n",
    "        task4_results[\"stress\"][:, 1, 1], label=\"task 4\"\n",
    "    )\n",
    "    ax[1, 2].set(**pparam)\n",
    "    ax[1, 2].legend()\n",
    "    plt.show()"
   ]
  },
  {
   "cell_type": "code",
   "execution_count": null,
   "metadata": {},
   "outputs": [],
   "source": [
    "plot_path_dependent(task1_results=results_task_A,\n",
    "                    task2_results=results_task_B,\n",
    "                    task3_results=results_task_C,\n",
    "                    task4_results=results_task_D)"
   ]
  },
  {
   "cell_type": "code",
   "execution_count": null,
   "metadata": {},
   "outputs": [],
   "source": []
  },
  {
   "attachments": {},
   "cell_type": "markdown",
   "metadata": {},
   "source": [
    "## How to run it in the hpc cluster  \n",
    "\n",
    "The whole process of data generation is configured by Hydra. The code structure is shown as follows\n",
    "\n",
    "```\n",
    "CDDM                                                                          \n",
    "│    config.py  \n",
    "│    config.yaml \n",
    "│    main.py \n",
    "│    pbsjob.sh\n",
    "│    READNE.md \n",
    "|    cddm_data_generation.ipynb\n",
    "``` \n",
    "---\n",
    "According to the code structure, the ``config.py``, ``config.yaml``, ``main.py`` are the three major files to replicate the data generation process of CDDM in one shot, and ``pbsjob.sh`` is the file to run the whole design of experiment in the cluster.  There are two ways of running those simulations: (Note: the simulation is done by ABAQUS, so ABAQUS is needed for running those )\n",
    "- run it at the terminal of your local machine  \n",
    ">   ```python main.py``` \n",
    "- run it at the hpc cluster\n",
    "> ```qsub pbsjob.sh``` "
   ]
  }
 ],
 "metadata": {
  "kernelspec": {
   "display_name": "Python 3.8.10 64-bit",
   "language": "python",
   "name": "python3"
  },
  "language_info": {
   "codemirror_mode": {
    "name": "ipython",
    "version": 3
   },
   "file_extension": ".py",
   "mimetype": "text/x-python",
   "name": "python",
   "nbconvert_exporter": "python",
   "pygments_lexer": "ipython3",
   "version": "3.10.5"
  },
  "orig_nbformat": 4,
  "vscode": {
   "interpreter": {
    "hash": "916dbcbb3f70747c44a77c7bcd40155683ae19c65e1c03b4aa3499c5328201f1"
   }
  }
 },
 "nbformat": 4,
 "nbformat_minor": 2
}
